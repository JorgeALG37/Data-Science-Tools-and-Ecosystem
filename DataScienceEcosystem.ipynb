{
 "cells": [
  {
   "cell_type": "markdown",
   "id": "fdaa3614-13da-40bb-87cd-5898e83e4e50",
   "metadata": {},
   "source": [
    "# Data Science Tools and Ecosystem"
   ]
  },
  {
   "cell_type": "markdown",
   "id": "e61bdb71",
   "metadata": {},
   "source": [
    "## Author:\n",
    "Jorge López"
   ]
  },
  {
   "cell_type": "markdown",
   "id": "d4fbae55-011d-47be-8c7b-11fb28194433",
   "metadata": {},
   "source": [
    "In this notebook, Data Science Tools and Ecosystem are summarized."
   ]
  },
  {
   "cell_type": "markdown",
   "id": "4a37d33e",
   "metadata": {},
   "source": [
    "**Objectives:**\n",
    "- List Languages most common used from Data Science.\n",
    "- Create a table which  contains Data Science tools most common used\n",
    "- Coding on a Jupyter Notebook"
   ]
  },
  {
   "cell_type": "markdown",
   "id": "1dacb89c-ccea-40ef-a388-ca9a8f288b53",
   "metadata": {},
   "source": [
    "Languages most common used from Data Scientist are:\n",
    "1. Python\n",
    "2. R\n",
    "3. Julia"
   ]
  },
  {
   "cell_type": "markdown",
   "id": "87c1913d-7aea-48a0-81a6-f8a762a93f6d",
   "metadata": {},
   "source": [
    "Some of the commonly used libraries used by Data Scientists include:\n",
    "1. Pandas\n",
    "2. Numpy\n",
    "3. Seaborn\n",
    "4. Matplotlib"
   ]
  },
  {
   "cell_type": "markdown",
   "id": "269a8462-1716-4e21-84fd-0c4599c6d015",
   "metadata": {},
   "source": [
    "| Data Science Tools |\n",
    "|:------------------:|\n",
    "| JupyterNotebooks |\n",
    "| Github |\n",
    "| R Studio |"
   ]
  },
  {
   "cell_type": "markdown",
   "id": "55bee175-fd96-4580-9da4-56161bab001b",
   "metadata": {},
   "source": [
    "### Below are a few examples of evaluating arithmetic expressions in Python:\n",
    "$$(3*4)+5$$"
   ]
  },
  {
   "cell_type": "code",
   "execution_count": 3,
   "id": "a5c6c99e",
   "metadata": {},
   "outputs": [
    {
     "name": "stdout",
     "output_type": "stream",
     "text": [
      "17\n"
     ]
    }
   ],
   "source": [
    "operation = (3*4)+5 # This a simple arithmetic expression to mutiply then add integers\n",
    "print(operation)"
   ]
  },
  {
   "cell_type": "code",
   "execution_count": 2,
   "id": "2cba2ddc",
   "metadata": {},
   "outputs": [
    {
     "name": "stdout",
     "output_type": "stream",
     "text": [
      "3.3333333333333335\n"
     ]
    }
   ],
   "source": [
    "minutes = 200\n",
    "hours = minutes/60 #This will convert 200 minutes to hours by diving by 60\n",
    "print(hours)"
   ]
  },
  {
   "cell_type": "markdown",
   "id": "152ce2a3",
   "metadata": {},
   "source": []
  }
 ],
 "metadata": {
  "kernelspec": {
   "display_name": "Python 3",
   "language": "python",
   "name": "python3"
  },
  "language_info": {
   "codemirror_mode": {
    "name": "ipython",
    "version": 3
   },
   "file_extension": ".py",
   "mimetype": "text/x-python",
   "name": "python",
   "nbconvert_exporter": "python",
   "pygments_lexer": "ipython3",
   "version": "3.13.3"
  }
 },
 "nbformat": 4,
 "nbformat_minor": 5
}
